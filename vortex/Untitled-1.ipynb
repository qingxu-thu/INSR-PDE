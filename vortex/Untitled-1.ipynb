{
 "cells": [
  {
   "cell_type": "code",
   "execution_count": 7,
   "metadata": {},
   "outputs": [
    {
     "name": "stdout",
     "output_type": "stream",
     "text": [
      "LD_LIBRARY_PATH =  $LD_LIBRARY_PATH:/usr/local/cuda-11.8/lib64\n"
     ]
    }
   ],
   "source": [
    "from os import environ\n",
    "import dotenv\n",
    "from os import environ\n",
    "env_file = '../.env'\n",
    "\n",
    "f = open(env_file,'w')\n",
    "f.write('LD_LIBRARY_PATH=\"$LD_LIBRARY_PATH:/usr/local/cuda-11.8/lib64\"')\n",
    "f.close()\n",
    "dotenv.load_dotenv(env_file, override=True)\n",
    "print('LD_LIBRARY_PATH = ', environ.get('LD_LIBRARY_PATH'))\n"
   ]
  },
  {
   "cell_type": "code",
   "execution_count": 1,
   "metadata": {},
   "outputs": [
    {
     "ename": "ModuleNotFoundError",
     "evalue": "No module named 'vortex'",
     "output_type": "error",
     "traceback": [
      "\u001b[0;31m---------------------------------------------------------------------------\u001b[0m",
      "\u001b[0;31mModuleNotFoundError\u001b[0m                       Traceback (most recent call last)",
      "Cell \u001b[0;32mIn[1], line 1\u001b[0m\n\u001b[0;32m----> 1\u001b[0m \u001b[39mfrom\u001b[39;00m \u001b[39mvortex\u001b[39;00m\u001b[39m.\u001b[39;00m\u001b[39mvisualize\u001b[39;00m \u001b[39mimport\u001b[39;00m draw_vector_field2D, draw_sc_field2D, draw_curl, draw_magnitude, save_numpy_img, save_figure, draw_vector_field2D_ut\n",
      "\u001b[0;31mModuleNotFoundError\u001b[0m: No module named 'vortex'"
     ]
    }
   ],
   "source": [
    "import sys\n",
    "import os\n",
    "sys.path.append('..')\n",
    "from vortex.visualize import draw_vector_field2D, draw_sc_field2D, draw_curl, draw_magnitude, save_numpy_img, save_figure, draw_vector_field2D_ut"
   ]
  }
 ],
 "metadata": {
  "kernelspec": {
   "display_name": "pde_env",
   "language": "python",
   "name": "python3"
  },
  "language_info": {
   "codemirror_mode": {
    "name": "ipython",
    "version": 3
   },
   "file_extension": ".py",
   "mimetype": "text/x-python",
   "name": "python",
   "nbconvert_exporter": "python",
   "pygments_lexer": "ipython3",
   "version": "3.9.0"
  },
  "orig_nbformat": 4
 },
 "nbformat": 4,
 "nbformat_minor": 2
}
